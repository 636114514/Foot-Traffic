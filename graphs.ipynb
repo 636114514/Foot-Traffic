{
 "cells": [
  {
   "cell_type": "code",
   "execution_count": null,
   "metadata": {},
   "outputs": [],
   "source": [
    "# imports\n",
    "import numpy as np\n",
    "import matplotlib.pyplot as plt\n",
    "import pandas as pd\n"
   ]
  },
  {
   "cell_type": "markdown",
   "metadata": {},
   "source": [
    "### 90 cm No One Passes - BASELINE"
   ]
  },
  {
   "cell_type": "code",
   "execution_count": null,
   "metadata": {},
   "outputs": [],
   "source": [
    "# define data\n",
    "# get data from csv file=\"FootTrafic_90cm_NoOnePass.csv\"\n",
    "df = pd.read_csv('FootTrafic_90cm_NoOnePass.csv')\n",
    "# print(df.head())\n",
    "# print(df.describe())\n",
    "\n",
    "# x-values are RSSI signal strength\n",
    "x_pass_1 = np.float64(df['90cm_NoOnePass_1'])\n",
    "x_pass_2 = np.float64(df['90cm_NoOnePass_2'])\n",
    "\n",
    "# if pass has nan values, ignore them\n",
    "x_pass_1 = x_pass_1[~np.isnan(x_pass_1)]\n",
    "x_pass_2 = x_pass_2[~np.isnan(x_pass_2)]\n",
    "\n"
   ]
  },
  {
   "cell_type": "markdown",
   "metadata": {},
   "source": [
    "An idea to make the graph larger\n"
   ]
  },
  {
   "cell_type": "code",
   "execution_count": null,
   "metadata": {},
   "outputs": [],
   "source": [
    "# Plotting the coherence of two signals\n",
    "plt.figure(figsize=(40, 10))\n",
    "plt.subplot(211)\n",
    "plt.plot(x_pass_1, label='baseline 1', marker='o', markersize=2)\n",
    "plt.plot(x_pass_2, label='baseline 2', marker='x', markersize=2)\n",
    "plt.xlabel('Time (30 seconds)')\n",
    "plt.ylabel('RSSI (dBm)')\n",
    "plt.title('RSSI Signal Strength: Baseline 90cm - No One Passes')\n",
    "plt.legend()\n",
    "plt.grid(True)\n",
    "plt.show()"
   ]
  },
  {
   "cell_type": "code",
   "execution_count": null,
   "metadata": {},
   "outputs": [],
   "source": [
    "# Plotting the coherence of two signals\n",
    "plt.figure(1)\n",
    "plt.subplot(211)\n",
    "plt.plot(x_pass_1, label='baseline 1', marker='o', markersize=2, color='red')\n",
    "plt.plot(x_pass_2, label='baseline 2', marker='x', markersize=2, color='green')\n",
    "plt.xlabel('Time (30 seconds)')\n",
    "plt.ylabel('RSSI (dBm)')\n",
    "plt.title('RSSI Signal Strength: Baseline 90cm - No One Passes')\n",
    "plt.legend()\n",
    "plt.grid(True)\n",
    "plt.show()"
   ]
  },
  {
   "cell_type": "markdown",
   "metadata": {},
   "source": [
    "Pass 1 Histogram of the data"
   ]
  },
  {
   "cell_type": "code",
   "execution_count": null,
   "metadata": {},
   "outputs": [],
   "source": [
    "# add a 'best fit' line 1\n",
    "fig, ax = plt.subplots()\n",
    "n, bins, pacthes = ax.hist(x_pass_1, bins=20, label='baseline 1', alpha=0.5, density=True)\n",
    "\n",
    "# plot the histogram of the RSSI values\n",
    "y = ((1 / (np.sqrt(2 * np.pi) * np.std(x_pass_1))) *\n",
    "        np.exp(-0.5 * (1 / np.std(x_pass_1) * (bins - np.mean(x_pass_1))) ** 2))\n",
    "ax.plot(bins, y, 'x', label='baseline 1 fit')\n",
    "\n",
    "plt.xlabel('RSSI (dBm)')\n",
    "plt.ylabel('Frequency')\n",
    "plt.title('Histogram of RSSI Signal Strength\\\n",
    "        \\nBaseline 90cm - No One Passes\\\n",
    "        \\nwith mu = %.2f and sigma = %.2f' % (np.mean(x_pass_1), np.std(x_pass_1)))\n",
    "plt.legend()\n",
    "plt.show()"
   ]
  },
  {
   "cell_type": "markdown",
   "metadata": {},
   "source": [
    "Pass 2 Histogram of the data"
   ]
  },
  {
   "cell_type": "code",
   "execution_count": null,
   "metadata": {},
   "outputs": [],
   "source": [
    "fig2, ax2 = plt.subplots()\n",
    "n2, bins2, pacthes2 = ax2.hist(x_pass_2, bins=20, label='baseline 2', alpha=0.5, density=True)\n",
    "\n",
    "# plot the histogram of the RSSI values\n",
    "y2 = ((1 / (np.sqrt(2 * np.pi) * np.std(x_pass_2))) *\n",
    "        np.exp(-0.5 * (1 / np.std(x_pass_2) * (bins2 - np.mean(x_pass_2))) ** 2))\n",
    "ax2.plot(bins2, y2, 'x', label='baseline 2 fit')\n",
    "\n",
    "plt.xlabel('RSSI (dBm)')\n",
    "plt.ylabel('Frequency')\n",
    "plt.title('Histogram of RSSI Signal Strength\\\n",
    "        \\nBaseline 90cm - No One Passes\\\n",
    "        \\nwith mu = %.2f and sigma = %.2f' % (np.mean(x_pass_2), np.std(x_pass_2)))\n",
    "plt.legend()\n",
    "plt.show()"
   ]
  },
  {
   "cell_type": "code",
   "execution_count": null,
   "metadata": {},
   "outputs": [],
   "source": [
    "# ----------------------------------------------------------------------------------------------------------------------"
   ]
  },
  {
   "cell_type": "markdown",
   "metadata": {},
   "source": [
    "### 90cm Person Pass"
   ]
  },
  {
   "cell_type": "code",
   "execution_count": null,
   "metadata": {},
   "outputs": [],
   "source": [
    "df = pd.read_csv('FootTrafic_90cm_baseline_Person_Pass.csv')\n",
    "# print(df.head())\n",
    "# print(df.describe())\n",
    "\n",
    "# x-values are RSSI signal strength\n",
    "x_pass_1 = np.float64(df['90cm_baseline_Person_Pass_1'])\n",
    "x_pass_2 = np.float64(df['90cm_baseline_Person_Pass_2'])\n",
    "\n",
    "# if pass has nan values, ignore them\n",
    "x_pass_1 = x_pass_1[~np.isnan(x_pass_1)]\n",
    "x_pass_2 = x_pass_2[~np.isnan(x_pass_2)]"
   ]
  },
  {
   "cell_type": "code",
   "execution_count": null,
   "metadata": {},
   "outputs": [],
   "source": [
    "# Plotting the coherence of two signals\n",
    "plt.figure(1)\n",
    "plt.subplot(211)\n",
    "plt.plot(x_pass_1, label='pass 1 (32.8s)', marker='o', markersize=2, color='red')\n",
    "plt.plot(x_pass_2, label='pass 2 (31.58s)', marker='x', markersize=2, color='green')\n",
    "plt.xlabel('Time (seconds)')\n",
    "plt.ylabel('RSSI (dBm)')\n",
    "plt.title('RSSI Signal Strength: 90cm - A Person Walks Pass')\n",
    "plt.legend()\n",
    "plt.show()"
   ]
  },
  {
   "cell_type": "code",
   "execution_count": null,
   "metadata": {},
   "outputs": [],
   "source": [
    "# add a 'best fit' line 1\n",
    "fig, ax = plt.subplots()\n",
    "n, bins, pacthes = ax.hist(x_pass_1, bins=20, label='pass 1', alpha=0.5, density=True)\n",
    "\n",
    "# plot the histogram of the RSSI values\n",
    "y = ((1 / (np.sqrt(2 * np.pi) * np.std(x_pass_1))) *\n",
    "        np.exp(-0.5 * (1 / np.std(x_pass_1) * (bins - np.mean(x_pass_1))) ** 2))\n",
    "ax.plot(bins, y, 'x', label='pass 1 fit')\n",
    "\n",
    "plt.xlabel('RSSI (dBm)')\n",
    "plt.ylabel('Frequency')\n",
    "plt.title('Histogram of RSSI Signal Strength\\\n",
    "        \\n90cm - A Person Walks Pass\\\n",
    "        \\nwith mu = %.2f and sigma = %.2f' % (np.mean(x_pass_1), np.std(x_pass_1)))\n",
    "plt.legend()\n",
    "plt.show()"
   ]
  },
  {
   "cell_type": "code",
   "execution_count": null,
   "metadata": {},
   "outputs": [],
   "source": [
    "fig2, ax2 = plt.subplots()\n",
    "n2, bins2, pacthes2 = ax2.hist(x_pass_2, bins=20, label='pass 2', alpha=0.5, density=True)\n",
    "\n",
    "# plot the histogram of the RSSI values\n",
    "y2 = ((1 / (np.sqrt(2 * np.pi) * np.std(x_pass_2))) *\n",
    "        np.exp(-0.5 * (1 / np.std(x_pass_2) * (bins2 - np.mean(x_pass_2))) ** 2))\n",
    "ax2.plot(bins2, y2, 'x', label='pass 2 fit')\n",
    "\n",
    "plt.xlabel('RSSI (dBm)')\n",
    "plt.ylabel('Frequency')\n",
    "plt.title('Histogram of RSSI Signal Strength\\\n",
    "        \\n 90cm - A Person Walks Pass\\\n",
    "        \\nwith mu = %.2f and sigma = %.2f' % (np.mean(x_pass_1), np.std(x_pass_1)))\n",
    "plt.legend()\n",
    "plt.show()"
   ]
  },
  {
   "cell_type": "markdown",
   "metadata": {},
   "source": [
    "### 90cm Fast Run Person Pass"
   ]
  },
  {
   "cell_type": "code",
   "execution_count": null,
   "metadata": {},
   "outputs": [],
   "source": [
    "# define data\n",
    "# get data from csv file=\"FootTrafic_90cm_NoOnePass\"\n",
    "df = pd.read_csv('FootTrafic_90cm_FastRun.csv')\n",
    "# print(df.head())\n",
    "# print(df.describe())\n",
    "\n",
    "# x-values are RSSI signal strength\n",
    "x_pass_1 = np.float64(df['90cm_FastRun_1'])\n",
    "x_pass_2 = np.float64(df['90cm_FastRun_2'])\n",
    "x_pass_3 = np.float64(df['90cm_FastRun_3'])\n",
    "\n",
    "# if pass has nan values, ignore them\n",
    "x_pass_1 = x_pass_1[~np.isnan(x_pass_1)]\n",
    "x_pass_2 = x_pass_2[~np.isnan(x_pass_2)]\n",
    "x_pass_3 = x_pass_3[~np.isnan(x_pass_3)]\n",
    "\n"
   ]
  },
  {
   "cell_type": "code",
   "execution_count": null,
   "metadata": {},
   "outputs": [],
   "source": [
    "# Plotting the coherence of two signals\n",
    "plt.figure(1)\n",
    "plt.subplot(211)\n",
    "plt.plot(x_pass_1, label='run 1', marker='o', markersize=2, color='r')\n",
    "plt.plot(x_pass_2, label='run 2', marker='x', markersize=2, color='g')\n",
    "plt.plot(x_pass_3, label='run 3', marker='*', markersize=2, color='b')\n",
    "plt.xlabel('Time (seconds)')\n",
    "plt.ylabel('RSSI (dBm)')\n",
    "plt.title('RSSI Signal Strength: 90cm - A Person Runs Pass')\n",
    "plt.legend()\n",
    "plt.show()"
   ]
  },
  {
   "cell_type": "code",
   "execution_count": null,
   "metadata": {},
   "outputs": [],
   "source": [
    "# add a 'best fit' line 1\n",
    "fig, ax = plt.subplots()\n",
    "n, bins, pacthes = ax.hist(x_pass_1, bins=20, label='run 1', alpha=0.5, density=True)\n",
    "\n",
    "# plot the histogram of the RSSI values\n",
    "y = ((1 / (np.sqrt(2 * np.pi) * np.std(x_pass_1))) *\n",
    "        np.exp(-0.5 * (1 / np.std(x_pass_1) * (bins - np.mean(x_pass_1))) ** 2))\n",
    "ax.plot(bins, y, 'x', label='run 1 fit')\n",
    "\n",
    "plt.xlabel('RSSI (dBm)')\n",
    "plt.ylabel('Frequency')\n",
    "plt.title('Histogram of RSSI Signal Strength\\\n",
    "        \\n 90cm - A Person Runs Pass\\\n",
    "        \\nwith mu = %.2f and sigma = %.2f' % (np.mean(x_pass_1), np.std(x_pass_1)))\n",
    "plt.legend()\n",
    "plt.show()"
   ]
  },
  {
   "cell_type": "code",
   "execution_count": null,
   "metadata": {},
   "outputs": [],
   "source": [
    "# add a 'best fit' line 2\n",
    "fig2, ax2 = plt.subplots()\n",
    "n, bins2, pacthes = ax2.hist(x_pass_2, bins=20, label='run 2', alpha=0.5, density=True)\n",
    "\n",
    "# plot the histogram of the RSSI values\n",
    "y = ((1 / (np.sqrt(2 * np.pi) * np.std(x_pass_2))) *\n",
    "        np.exp(-0.5 * (1 / np.std(x_pass_2) * (bins2 - np.mean(x_pass_2))) ** 2))\n",
    "ax2.plot(bins2, y, 'x', label='run 2 fit')\n",
    "\n",
    "plt.xlabel('RSSI (dBm)')\n",
    "plt.ylabel('Frequency')\n",
    "plt.title('Histogram of RSSI Signal Strength\\\n",
    "        \\n90cm -  A Person Runs Pass\\\n",
    "        \\nwith mu = %.2f and sigma = %.2f' % (np.mean(x_pass_2), np.std(x_pass_2)))\n",
    "plt.legend()\n",
    "plt.show()"
   ]
  },
  {
   "cell_type": "code",
   "execution_count": null,
   "metadata": {},
   "outputs": [],
   "source": [
    "# add a 'best fit' line 3\n",
    "fig3, ax3 = plt.subplots()\n",
    "n, bins3, pacthes = ax3.hist(x_pass_3, bins=20, label='run 3', alpha=0.5, density=True)\n",
    "\n",
    "# plot the histogram of the RSSI values\n",
    "y = ((1 / (np.sqrt(2 * np.pi) * np.std(x_pass_3))) *\n",
    "        np.exp(-0.5 * (1 / np.std(x_pass_3) * (bins3 - np.mean(x_pass_3))) ** 2))\n",
    "ax3.plot(bins3, y, 'x', label='run 3 fit')\n",
    "\n",
    "plt.xlabel('RSSI (dBm)')\n",
    "plt.ylabel('Frequency')\n",
    "plt.title('Histogram of RSSI Signal Strength\\\n",
    "        \\n90cm -  A Person Runs Pass\\\n",
    "        \\nwith mu = %.2f and sigma = %.2f' % (np.mean(x_pass_3), np.std(x_pass_3)))\n",
    "plt.legend()\n",
    "plt.show()"
   ]
  },
  {
   "cell_type": "markdown",
   "metadata": {},
   "source": [
    "### 90cm Two Close Persons Pass"
   ]
  },
  {
   "cell_type": "code",
   "execution_count": null,
   "metadata": {},
   "outputs": [],
   "source": [
    "# define data\n",
    "# get data from csv file=\"FootTrafic_90cm_NoOnePass\"\n",
    "df = pd.read_csv('FootTrafic_90cm_TwoClosePerson.csv')\n",
    "# print(df.head())\n",
    "# print(df.describe())\n",
    "\n",
    "# x-values are RSSI signal strength\n",
    "x_pass_1 = np.float64(df['90cm_TwoClosePerson_1'])\n",
    "x_pass_2 = np.float64(df['90cm_TwoClosePerson_2'])\n",
    "\n",
    "# if pass has nan values, ignore them\n",
    "x_pass_1 = x_pass_1[~np.isnan(x_pass_1)]\n",
    "x_pass_2 = x_pass_2[~np.isnan(x_pass_2)]\n",
    "\n"
   ]
  },
  {
   "cell_type": "code",
   "execution_count": null,
   "metadata": {},
   "outputs": [],
   "source": [
    "# Plotting the coherence of two signals\n",
    "plt.figure(1)\n",
    "plt.subplot(211)\n",
    "plt.plot(x_pass_1, label='pass 1', marker='o', markersize=2, color='r')\n",
    "plt.plot(x_pass_2, label='pass 2', marker='x', markersize=2, color='g')\n",
    "plt.xlabel('Time (seconds)')\n",
    "plt.ylabel('RSSI (dBm)')\n",
    "plt.title('RSSI Signal Strength: 90cm - Two Close People Walk Pass')\n",
    "plt.legend()\n",
    "plt.show()"
   ]
  },
  {
   "cell_type": "code",
   "execution_count": null,
   "metadata": {},
   "outputs": [],
   "source": [
    "# add a 'best fit' line 1\n",
    "fig, ax = plt.subplots()\n",
    "n, bins, pacthes = ax.hist(x_pass_1, bins=20, label='pass 1', alpha=0.5, density=True)\n",
    "\n",
    "# plot the histogram of the RSSI values\n",
    "y = ((1 / (np.sqrt(2 * np.pi) * np.std(x_pass_1))) *\n",
    "        np.exp(-0.5 * (1 / np.std(x_pass_1) * (bins - np.mean(x_pass_1))) ** 2))\n",
    "ax.plot(bins, y, 'x', label='pass 1 fit')\n",
    "\n",
    "plt.xlabel('RSSI (dBm)')\n",
    "plt.ylabel('Frequency')\n",
    "plt.title('Histogram of RSSI Signal Strength\\\n",
    "        \\n90cm - Two Close People Walk Pass\\\n",
    "        \\nwith mu = %.2f and sigma = %.2f' % (np.mean(x_pass_1), np.std(x_pass_1)))\n",
    "plt.legend()\n",
    "plt.show()"
   ]
  },
  {
   "cell_type": "code",
   "execution_count": null,
   "metadata": {},
   "outputs": [],
   "source": [
    "# add a 'best fit' line 2\n",
    "fig, ax = plt.subplots()\n",
    "n, bins, pacthes = ax.hist(x_pass_2, bins=20, label='pass 2', alpha=0.5, density=True)\n",
    "\n",
    "# plot the histogram of the RSSI values\n",
    "y = ((1 / (np.sqrt(2 * np.pi) * np.std(x_pass_2))) *\n",
    "        np.exp(-0.5 * (1 / np.std(x_pass_2) * (bins - np.mean(x_pass_2))) ** 2))\n",
    "ax.plot(bins, y, 'x', label='pass 2 fit')\n",
    "\n",
    "plt.xlabel('RSSI (dBm)')\n",
    "plt.ylabel('Frequency')\n",
    "plt.title('Histogram of RSSI Signal Strength\\\n",
    "        \\n90cm - Two Close People Walk Pass\\\n",
    "        \\nwith mu = %.2f and sigma = %.2f' % (np.mean(x_pass_2), np.std(x_pass_2)))\n",
    "plt.legend()\n",
    "plt.show()"
   ]
  },
  {
   "cell_type": "markdown",
   "metadata": {},
   "source": [
    "### 90 cm Heavy Coat Person Pass"
   ]
  },
  {
   "cell_type": "code",
   "execution_count": null,
   "metadata": {},
   "outputs": [],
   "source": [
    "# define data\n",
    "# get data from csv file=\"FootTrafic_90cm_HeavyCoat\"\n",
    "df = pd.read_csv('FootTrafic_90cm_HeavyCoat.csv')\n",
    "# print(df.head())\n",
    "# print(df.describe())\n",
    "\n",
    "# x-values are RSSI signal strength\n",
    "x_pass_1 = np.float64(df['90cm_HeavyCoat_1'])\n",
    "x_pass_2 = np.float64(df['90cm_HeavyCoat_2'])\n",
    "\n",
    "# if pass has nan values, ignore them\n",
    "x_pass_1 = x_pass_1[~np.isnan(x_pass_1)]\n",
    "x_pass_2 = x_pass_2[~np.isnan(x_pass_2)]\n",
    "\n"
   ]
  },
  {
   "cell_type": "code",
   "execution_count": null,
   "metadata": {},
   "outputs": [],
   "source": [
    "# Plotting the coherence of two signals\n",
    "plt.figure(1)\n",
    "plt.subplot(211)\n",
    "plt.plot(x_pass_1, label='pass 1', marker='o', markersize=2, color='red')\n",
    "plt.plot(x_pass_2, label='pass 2', marker='x', markersize=2, color='green')\n",
    "plt.xlabel('Time (seconds)')\n",
    "plt.ylabel('RSSI (dBm)')\n",
    "plt.title('RSSI Signal Strength: 90cm - Person Walks Pass w/ Heavy Coat')\n",
    "plt.legend()\n",
    "plt.show()"
   ]
  },
  {
   "cell_type": "code",
   "execution_count": null,
   "metadata": {},
   "outputs": [],
   "source": [
    "# add a 'best fit' line 1\n",
    "fig, ax = plt.subplots()\n",
    "n, bins, pacthes = ax.hist(x_pass_1, bins=20, label='pass 1', alpha=0.5, density=True)\n",
    "\n",
    "# plot the histogram of the RSSI values\n",
    "y = ((1 / (np.sqrt(2 * np.pi) * np.std(x_pass_1))) *\n",
    "        np.exp(-0.5 * (1 / np.std(x_pass_1) * (bins - np.mean(x_pass_1))) ** 2))\n",
    "ax.plot(bins, y, 'x', label='pass 1 fit')\n",
    "\n",
    "plt.xlabel('RSSI (dBm)')\n",
    "plt.ylabel('Frequency')\n",
    "plt.title('Histogram of RSSI Signal Strength\\\n",
    "        \\n 90cm - Person Walks Pass w/ Heavy Coat\\\n",
    "        \\nwith mu = %.2f and sigma = %.2f' % (np.mean(x_pass_1), np.std(x_pass_1)))\n",
    "plt.legend()\n",
    "plt.show()"
   ]
  },
  {
   "cell_type": "code",
   "execution_count": null,
   "metadata": {},
   "outputs": [],
   "source": [
    "# add a 'best fit' line 2\n",
    "fig2, ax2 = plt.subplots()\n",
    "n, bins, pacthes = ax2.hist(x_pass_2, bins=20, label='pass 1', alpha=0.5, density=True)\n",
    "\n",
    "# plot the histogram of the RSSI values\n",
    "y = ((1 / (np.sqrt(2 * np.pi) * np.std(x_pass_2))) *\n",
    "        np.exp(-0.5 * (1 / np.std(x_pass_2) * (bins - np.mean(x_pass_2))) ** 2))\n",
    "ax2.plot(bins, y, 'x', label='pass 1 fit')\n",
    "\n",
    "plt.xlabel('RSSI (dBm)')\n",
    "plt.ylabel('Frequency')\n",
    "plt.title('Histogram of RSSI Signal Strength\\\n",
    "        \\n90cm - Person Walks Pass w/ Heavy Coat\\\n",
    "        \\nwith mu = %.2f and sigma = %.2f' % (np.mean(x_pass_2), np.std(x_pass_2)))\n",
    "plt.legend()\n",
    "plt.show()"
   ]
  },
  {
   "cell_type": "markdown",
   "metadata": {},
   "source": [
    "### 180 cm No One Passes"
   ]
  },
  {
   "cell_type": "code",
   "execution_count": null,
   "metadata": {},
   "outputs": [],
   "source": [
    "# define data\n",
    "# get data from csv file=\"FootTrafic_90cm_HeavyCoat\"\n",
    "df = pd.read_csv('FootTrafic_180cm_NoOnePass.csv')\n",
    "# print(df.head())\n",
    "# print(df.describe())\n",
    "\n",
    "# x-values are RSSI signal strength\n",
    "x_pass_1 = np.float64(df['180cm_NoOnePass_1'])\n",
    "x_pass_2 = np.float64(df['180cm_NoOnePass_2'])\n",
    "x_pass_3 = np.float64(df['180cm_NoOnePass_3'])\n",
    "\n",
    "# if pass has nan values, ignore them\n",
    "x_pass_1 = x_pass_1[~np.isnan(x_pass_1)]\n",
    "x_pass_2 = x_pass_2[~np.isnan(x_pass_2)]\n",
    "x_pass_3 = x_pass_3[~np.isnan(x_pass_3)]\n",
    "\n"
   ]
  },
  {
   "cell_type": "code",
   "execution_count": null,
   "metadata": {},
   "outputs": [],
   "source": [
    "plt.figure(1)\n",
    "plt.subplot(211)\n",
    "plt.plot(x_pass_1, label='baseline 1', marker='o', markersize=2, color='red')\n",
    "plt.plot(x_pass_2, label='baseline 2', marker='x', markersize=2, color='green')\n",
    "plt.plot(x_pass_3, label='baselibe 3', marker='*', markersize=2, color='blue')\n",
    "plt.xlabel('Time (seconds)')\n",
    "plt.ylabel('RSSI (dBm)')\n",
    "plt.title('RSSI Signal Strength: Baseline 180cm - No One Passes')\n",
    "plt.legend()\n",
    "plt.show()"
   ]
  },
  {
   "cell_type": "code",
   "execution_count": null,
   "metadata": {},
   "outputs": [],
   "source": [
    "# add a 'best fit' line 1\n",
    "fig, ax = plt.subplots()\n",
    "n, bins, pacthes = ax.hist(x_pass_1, bins=20, label='baseline 1', alpha=0.5, density=True)\n",
    "\n",
    "# plot the histogram of the RSSI values\n",
    "y = ((1 / (np.sqrt(2 * np.pi) * np.std(x_pass_1))) *\n",
    "        np.exp(-0.5 * (1 / np.std(x_pass_1) * (bins - np.mean(x_pass_1))) ** 2))\n",
    "ax.plot(bins, y, 'x', label='baseline 1 fit')\n",
    "\n",
    "plt.xlabel('RSSI (dBm)')\n",
    "plt.ylabel('Frequency')\n",
    "plt.title('Histogram of RSSI Signal Strength\\\n",
    "        \\nBaseline 180cm - No One Passes\\\n",
    "        \\nwith mu = %.2f and sigma = %.2f' % (np.mean(x_pass_1), np.std(x_pass_1)))\n",
    "plt.legend()\n",
    "plt.show()"
   ]
  },
  {
   "cell_type": "code",
   "execution_count": null,
   "metadata": {},
   "outputs": [],
   "source": [
    "# add a 'best fit' line 2\n",
    "fig2, ax2 = plt.subplots()\n",
    "n, bins, pacthes = ax2.hist(x_pass_2, bins=20, label='baseline 2', alpha=0.5, density=True)\n",
    "\n",
    "# plot the histogram of the RSSI values\n",
    "y = ((1 / (np.sqrt(2 * np.pi) * np.std(x_pass_2))) *\n",
    "        np.exp(-0.5 * (1 / np.std(x_pass_2) * (bins - np.mean(x_pass_2))) ** 2))\n",
    "ax2.plot(bins, y, 'x', label='baseline 2 fit')\n",
    "\n",
    "plt.xlabel('RSSI (dBm)')\n",
    "plt.ylabel('Frequency')\n",
    "plt.title('Histogram of RSSI Signal Strength\\\n",
    "        \\nBaseline 180cm - No One Passes\\\n",
    "        \\nwith mu = %.2f and sigma = %.2f' % (np.mean(x_pass_2), np.std(x_pass_2)))\n",
    "plt.legend()\n",
    "plt.show()"
   ]
  },
  {
   "cell_type": "code",
   "execution_count": null,
   "metadata": {},
   "outputs": [],
   "source": [
    "# add a 'best fit' line 3\n",
    "fig3, ax3 = plt.subplots()\n",
    "n, bins, pacthes = ax3.hist(x_pass_3, bins=20, label='baseline 3', alpha=0.5, density=True)\n",
    "\n",
    "# plot the histogram of the RSSI values\n",
    "y = ((1 / (np.sqrt(2 * np.pi) * np.std(x_pass_3))) *\n",
    "        np.exp(-0.5 * (1 / np.std(x_pass_3) * (bins - np.mean(x_pass_3))) ** 2))\n",
    "ax3.plot(bins, y, 'x', label='baseline 3 fit')\n",
    "\n",
    "plt.xlabel('RSSI (dBm)')\n",
    "plt.ylabel('Frequency')\n",
    "plt.title('Histogram of RSSI Signal Strength\\\n",
    "        \\n Baseline 180cm - No One Passes\\\n",
    "        \\nwith mu = %.2f and sigma = %.2f' % (np.mean(x_pass_3), np.std(x_pass_3)))\n",
    "plt.legend()\n",
    "plt.show()"
   ]
  },
  {
   "cell_type": "markdown",
   "metadata": {},
   "source": [
    "### 90 cm Two Boards Close No One Passes"
   ]
  },
  {
   "cell_type": "code",
   "execution_count": null,
   "metadata": {},
   "outputs": [],
   "source": [
    "# define data\n",
    "# get data from csv file=\"FootTrafic_90cm_TwoBoards_Close_NoOnePass\"\n",
    "df = pd.read_csv('FootTrafic_90cm_TwoBoards_Close_NoOnePass.csv')\n",
    "# print(df.head())\n",
    "# print(df.describe())\n",
    "\n",
    "# x-values are RSSI signal strength\n",
    "x_pass_1 = np.float64(df['board_1'])\n",
    "x_pass_2 = np.float64(df['board_2'])\n",
    "\n",
    "# if pass has nan values, ignore them\n",
    "x_pass_1 = x_pass_1[~np.isnan(x_pass_1)]\n",
    "x_pass_2 = x_pass_2[~np.isnan(x_pass_2)]\n",
    "\n"
   ]
  },
  {
   "cell_type": "code",
   "execution_count": null,
   "metadata": {},
   "outputs": [],
   "source": [
    "# Plotting the coherence of two signals\n",
    "plt.figure(1)\n",
    "plt.subplot(211)\n",
    "plt.plot(x_pass_1, label='baord 1', marker='o', markersize=2, color='red')\n",
    "plt.plot(x_pass_2, label='board 2', marker='x', markersize=2, color='green')\n",
    "plt.xlabel('Time (seconds)')\n",
    "plt.ylabel('RSSI (dBm)')\n",
    "plt.title('RSSI Signal Strength: 90cm - Baseline Two Close Boards - No One Passes')\n",
    "plt.legend()\n",
    "plt.show()"
   ]
  },
  {
   "cell_type": "code",
   "execution_count": null,
   "metadata": {},
   "outputs": [],
   "source": [
    "# add a 'best fit' line 1\n",
    "fig, ax = plt.subplots()\n",
    "n, bins, pacthes = ax.hist(x_pass_1, bins=20, label='board 1', alpha=0.5, density=True)\n",
    "\n",
    "# plot the histogram of the RSSI values\n",
    "y = ((1 / (np.sqrt(2 * np.pi) * np.std(x_pass_1))) *\n",
    "        np.exp(-0.5 * (1 / np.std(x_pass_1) * (bins - np.mean(x_pass_1))) ** 2))\n",
    "ax.plot(bins, y, 'x', label='board 1 fit')\n",
    "\n",
    "plt.xlabel('RSSI (dBm)')\n",
    "plt.ylabel('Frequency')\n",
    "plt.title('Histogram of RSSI Signal Strength\\\n",
    "        \\n90cm - Two Close Boards - No One Passes\\\n",
    "        \\nwith mu = %.2f and sigma = %.2f' % (np.mean(x_pass_1), np.std(x_pass_1)))\n",
    "plt.legend()\n",
    "plt.show()"
   ]
  },
  {
   "cell_type": "code",
   "execution_count": null,
   "metadata": {},
   "outputs": [],
   "source": [
    "# add a 'best fit' line 2\n",
    "fig, ax = plt.subplots()\n",
    "n, bins, pacthes = ax.hist(x_pass_2, bins=20, label='board 2', alpha=0.5, density=True)\n",
    "\n",
    "# plot the histogram of the RSSI values\n",
    "y = ((1 / (np.sqrt(2 * np.pi) * np.std(x_pass_2))) *\n",
    "        np.exp(-0.5 * (1 / np.std(x_pass_2) * (bins - np.mean(x_pass_2))) ** 2))\n",
    "ax.plot(bins, y, 'x', label='board 2 fit')\n",
    "\n",
    "plt.xlabel('RSSI (dBm)')\n",
    "plt.ylabel('Frequency')\n",
    "plt.title('Histogram of RSSI Signal Strength\\\n",
    "        \\n90cm - Two Close Boards - No One Passes\\\n",
    "        \\nwith mu = %.2f and sigma = %.2f' % (np.mean(x_pass_2), np.std(x_pass_2)))\n",
    "plt.legend()\n",
    "plt.show()"
   ]
  },
  {
   "cell_type": "markdown",
   "metadata": {},
   "source": [
    "### 90 cm Two Boards Far No One Pass"
   ]
  },
  {
   "cell_type": "code",
   "execution_count": null,
   "metadata": {},
   "outputs": [],
   "source": [
    "# define data\n",
    "# get data from csv file=\"FootTrafic_90cm_TwoBoards_Close_NoOnePass\"\n",
    "df = pd.read_csv('FootTrafic_90cm_TwoBoards_Far_NoOnePass.csv')\n",
    "# print(df.head())\n",
    "# print(df.describe())\n",
    "\n",
    "# x-values are RSSI signal strength\n",
    "x_pass_1 = np.float64(df['board_1'])\n",
    "x_pass_2 = np.float64(df['board_2'])\n",
    "\n",
    "# if pass has nan values, ignore them\n",
    "x_pass_1 = x_pass_1[~np.isnan(x_pass_1)]\n",
    "x_pass_2 = x_pass_2[~np.isnan(x_pass_2)]\n",
    "\n"
   ]
  },
  {
   "cell_type": "code",
   "execution_count": null,
   "metadata": {},
   "outputs": [],
   "source": [
    "plt.figure(1)\n",
    "plt.subplot(211)\n",
    "plt.plot(x_pass_1, label='baseline 1', marker='o', markersize=3, color='red')\n",
    "plt.plot(x_pass_2, label='baseline 2', marker='x', markersize=2, color='green')\n",
    "plt.xlabel('Time (seconds)')\n",
    "plt.ylabel('RSSI (dBm)')\n",
    "plt.title('RSSI Signal Strength: 90cm - Baseline Two Far Boards - No One Passes')\n",
    "plt.legend()\n",
    "plt.show()\n"
   ]
  },
  {
   "cell_type": "code",
   "execution_count": null,
   "metadata": {},
   "outputs": [],
   "source": [
    "# add a 'best fit' line 1\n",
    "fig, ax = plt.subplots()\n",
    "n, bins, pacthes = ax.hist(x_pass_1, bins=20, label='baseline 1', alpha=0.5, density=True)\n",
    "\n",
    "# plot the histogram of the RSSI values\n",
    "y = ((1 / (np.sqrt(2 * np.pi) * np.std(x_pass_1))) *\n",
    "        np.exp(-0.5 * (1 / np.std(x_pass_1) * (bins - np.mean(x_pass_1))) ** 2))\n",
    "ax.plot(bins, y, 'x', label='baseline 1 fit')\n",
    "\n",
    "plt.xlabel('RSSI (dBm)')\n",
    "plt.ylabel('Frequency')\n",
    "plt.title('Histogram of RSSI Signal Strength\\\n",
    "        \\n90cm - Two Far Boards - No One Passes\\\n",
    "        \\nwith mu = %.2f and sigma = %.2f' % (np.mean(x_pass_1), np.std(x_pass_1)))\n",
    "plt.legend()\n",
    "plt.show()"
   ]
  },
  {
   "cell_type": "code",
   "execution_count": null,
   "metadata": {},
   "outputs": [],
   "source": [
    "# add a 'best fit' line 2\n",
    "fig, ax = plt.subplots()\n",
    "n, bins, pacthes = ax.hist(x_pass_2, bins=20, label='baseline 2', alpha=0.5, density=True)\n",
    "\n",
    "# plot the histogram of the RSSI values\n",
    "y = ((1 / (np.sqrt(2 * np.pi) * np.std(x_pass_2))) *\n",
    "        np.exp(-0.5 * (1 / np.std(x_pass_2) * (bins - np.mean(x_pass_2))) ** 2))\n",
    "ax.plot(bins, y, 'x', label='baseline 2 fit')\n",
    "\n",
    "plt.xlabel('RSSI (dBm)')\n",
    "plt.ylabel('Frequency')\n",
    "plt.title('Histogram of RSSI Signal Strength\\\n",
    "        \\n90cm - Two Far Boards - No One Passes\\\n",
    "        \\nwith mu = %.2f and sigma = %.2f' % (np.mean(x_pass_2), np.std(x_pass_2)))\n",
    "plt.legend()\n",
    "plt.show()"
   ]
  },
  {
   "cell_type": "markdown",
   "metadata": {},
   "source": [
    "### 90 cm Two Boards Far Person Pass 1"
   ]
  },
  {
   "cell_type": "code",
   "execution_count": null,
   "metadata": {},
   "outputs": [],
   "source": [
    "# define data\n",
    "# get data from csv file=\"FootTrafic_90cm_TwoBoards_Close_NoOnePass\"\n",
    "df = pd.read_csv('FootTrafic_90cm_TwoBoards_Far_PersonPass_1.csv')\n",
    "# print(df.head())\n",
    "# print(df.describe())\n",
    "\n",
    "# x-values are RSSI signal strength\n",
    "x_pass_1 = np.float64(df['board_1'])\n",
    "x_pass_2 = np.float64(df['board_2'])\n",
    "\n",
    "# if pass has nan values, ignore them\n",
    "x_pass_1 = x_pass_1[~np.isnan(x_pass_1)]\n",
    "x_pass_2 = x_pass_2[~np.isnan(x_pass_2)]\n",
    "\n"
   ]
  },
  {
   "cell_type": "code",
   "execution_count": null,
   "metadata": {},
   "outputs": [],
   "source": [
    "plt.figure(1)\n",
    "plt.subplot(211)\n",
    "plt.plot(x_pass_1, label='pass 1', marker='o', markersize=2, color='red')\n",
    "plt.plot(x_pass_2, label='pass 2', marker='x', markersize=2, color='green')\n",
    "plt.xlabel('Time (seconds)')\n",
    "plt.ylabel('RSSI (dBm)')\n",
    "plt.title('RSSI Signal Strength: 90cm - Two Far Boards - Person Walks Pass Attempt 1')\n",
    "plt.legend()\n",
    "plt.show()"
   ]
  },
  {
   "cell_type": "code",
   "execution_count": null,
   "metadata": {},
   "outputs": [],
   "source": [
    "# add a 'best fit' line 1\n",
    "fig, ax = plt.subplots()\n",
    "n, bins, pacthes = ax.hist(x_pass_1, bins=20, label='pass 1', alpha=0.5, density=True)\n",
    "\n",
    "# plot the histogram of the RSSI values\n",
    "y = ((1 / (np.sqrt(2 * np.pi) * np.std(x_pass_1))) *\n",
    "        np.exp(-0.5 * (1 / np.std(x_pass_1) * (bins - np.mean(x_pass_1))) ** 2))\n",
    "ax.plot(bins, y, 'x', label='pass 1 fit')\n",
    "\n",
    "plt.xlabel('RSSI (dBm)')\n",
    "plt.ylabel('Frequency')\n",
    "plt.title('Histogram of RSSI Signal Strength\\\n",
    "        \\n 90cm - Two Far Boards - Person Walks Pass\\\n",
    "        \\nwith mu = %.2f and sigma = %.2f' % (np.mean(x_pass_1), np.std(x_pass_1)))\n",
    "plt.legend()\n",
    "plt.show()"
   ]
  },
  {
   "cell_type": "code",
   "execution_count": null,
   "metadata": {},
   "outputs": [],
   "source": [
    "# add a 'best fit' line 2\n",
    "fig, ax = plt.subplots()\n",
    "n, bins, pacthes = ax.hist(x_pass_2, bins=20, label='pass 2', alpha=0.5, density=True)\n",
    "\n",
    "# plot the histogram of the RSSI values\n",
    "y = ((1 / (np.sqrt(2 * np.pi) * np.std(x_pass_2))) *\n",
    "        np.exp(-0.5 * (1 / np.std(x_pass_2) * (bins - np.mean(x_pass_2))) ** 2))\n",
    "ax.plot(bins, y, 'x', label='pass 2 fit')\n",
    "\n",
    "plt.xlabel('RSSI (dBm)')\n",
    "plt.ylabel('Frequency')\n",
    "plt.title('Histogram of RSSI Signal Strength\\\n",
    "        \\n90cm - Two Far Boards - Person Walks Pass\\\n",
    "        \\nwith mu = %.2f and sigma = %.2f' % (np.mean(x_pass_2), np.std(x_pass_2)))\n",
    "plt.legend()\n",
    "plt.show()"
   ]
  },
  {
   "cell_type": "markdown",
   "metadata": {},
   "source": [
    "### 90 cm Two Boards Far Person Pass 2"
   ]
  },
  {
   "cell_type": "code",
   "execution_count": null,
   "metadata": {},
   "outputs": [],
   "source": [
    "# define data\n",
    "# get data from csv file=\"FootTrafic_90cm_TwoBoards_Close_NoOnePass\"\n",
    "df = pd.read_csv('FootTrafic_90cm_TwoBoards_Far_PersonPass_2.csv')\n",
    "# print(df.head())\n",
    "# print(df.describe())\n",
    "\n",
    "# x-values are RSSI signal strength\n",
    "x_pass_1 = np.float64(df['board_1'])\n",
    "x_pass_2 = np.float64(df['board_2'])\n",
    "\n",
    "# if pass has nan values, ignore them\n",
    "x_pass_1 = x_pass_1[~np.isnan(x_pass_1)]\n",
    "x_pass_2 = x_pass_2[~np.isnan(x_pass_2)]\n",
    "\n"
   ]
  },
  {
   "cell_type": "code",
   "execution_count": null,
   "metadata": {},
   "outputs": [],
   "source": [
    "plt.figure(1)\n",
    "plt.subplot(211)\n",
    "plt.plot(x_pass_1, label='pass 1', marker='o', markersize=2, color='red')\n",
    "plt.plot(x_pass_2, label='pass 2', marker='x', markersize=2, color='green')\n",
    "plt.xlabel('Time (seconds)')\n",
    "plt.ylabel('RSSI (dBm)')\n",
    "plt.title('RSSI Signal Strength: 90cm - Two Far Boards - Person Walks Pass Attempt 2')\n",
    "plt.legend()\n",
    "plt.show()"
   ]
  },
  {
   "cell_type": "code",
   "execution_count": null,
   "metadata": {},
   "outputs": [],
   "source": [
    "# add a 'best fit' line 1\n",
    "fig, ax = plt.subplots()\n",
    "n, bins, pacthes = ax.hist(x_pass_1, bins=20, label='pass 1', alpha=0.5, density=True)\n",
    "\n",
    "# plot the histogram of the RSSI values\n",
    "y = ((1 / (np.sqrt(2 * np.pi) * np.std(x_pass_1))) *\n",
    "        np.exp(-0.5 * (1 / np.std(x_pass_1) * (bins - np.mean(x_pass_1))) ** 2))\n",
    "ax.plot(bins, y, 'x', label='pass 1 fit')\n",
    "\n",
    "plt.xlabel('RSSI (dBm)')\n",
    "plt.ylabel('Frequency')\n",
    "plt.title('Histogram of RSSI Signal Strength\\\n",
    "        \\n 90cm - Two Far Boards - Person Walks Pass\\\n",
    "        \\nwith mu = %.2f and sigma = %.2f' % (np.mean(x_pass_1), np.std(x_pass_1)))\n",
    "plt.legend()\n",
    "plt.show()"
   ]
  },
  {
   "cell_type": "code",
   "execution_count": null,
   "metadata": {},
   "outputs": [],
   "source": [
    "# add a 'best fit' line 2\n",
    "fig, ax = plt.subplots()\n",
    "n, bins, pacthes = ax.hist(x_pass_2, bins=20, label='pass 2', alpha=0.5, density=True)\n",
    "\n",
    "# plot the histogram of the RSSI values\n",
    "y = ((1 / (np.sqrt(2 * np.pi) * np.std(x_pass_2))) *\n",
    "        np.exp(-0.5 * (1 / np.std(x_pass_2) * (bins - np.mean(x_pass_2))) ** 2))\n",
    "ax.plot(bins, y, 'x', label='pass 2 fit')\n",
    "\n",
    "plt.xlabel('RSSI (dBm)')\n",
    "plt.ylabel('Frequency')\n",
    "plt.title('Histogram of RSSI Signal Strength\\\n",
    "        \\n90cm - Two Far Boards - Person Walks Pass\\\n",
    "        \\nwith mu = %.2f and sigma = %.2f' % (np.mean(x_pass_2), np.std(x_pass_2)))\n",
    "plt.legend()\n",
    "plt.show()"
   ]
  }
 ],
 "metadata": {
  "kernelspec": {
   "display_name": "Python 3",
   "language": "python",
   "name": "python3"
  },
  "language_info": {
   "codemirror_mode": {
    "name": "ipython",
    "version": 3
   },
   "file_extension": ".py",
   "mimetype": "text/x-python",
   "name": "python",
   "nbconvert_exporter": "python",
   "pygments_lexer": "ipython3",
   "version": "3.10.9"
  }
 },
 "nbformat": 4,
 "nbformat_minor": 2
}
